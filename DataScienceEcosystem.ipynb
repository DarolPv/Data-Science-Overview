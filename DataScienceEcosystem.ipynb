{
 "cells": [
  {
   "cell_type": "markdown",
   "metadata": {},
   "source": [
    "<center>\n",
    "    <img src=\"https://cf-courses-data.s3.us.cloud-object-storage.appdomain.cloud/IBMDeveloperSkillsNetwork-DS0105EN-SkillsNetwork/labs/Module2/images/SN_web_lightmode.png\" width=\"300\" alt=\"cognitiveclass.ai logo\">\n",
    "</center>\n"
   ]
  },
  {
   "cell_type": "markdown",
   "metadata": {},
   "source": [
    "# Data Science Tools and Ecosystem"
   ]
  },
  {
   "cell_type": "markdown",
   "metadata": {},
   "source": [
    "In this notebook, we will discuss some of the tools that data scientists frequently use in their work environment."
   ]
  },
  {
   "cell_type": "markdown",
   "metadata": {},
   "source": [
    "***Objectives:*** \n",
    "* Recognize the most commonly used programming languages\n",
    "* Identify libraries used by data scientists\n",
    "* Recognize tools for data scientists\n",
    "* Basic arithmetic applications in Python\n"
   ]
  },
  {
   "cell_type": "markdown",
   "metadata": {},
   "source": [
    "### Programming Languages Used by Data Scientists\n",
    "Programming languages vary in complexity depending on the level of programming knowledge, with **Python** being the most intuitive language to start with in data science.  \n",
    "Some of the programming languages frequently used by data scientists are:"
   ]
  },
  {
   "cell_type": "markdown",
   "metadata": {},
   "source": [
    "1. Python\n",
    "2. R\n",
    "3. SQL\n",
    "4. Julia\n",
    "5. C++\n",
    "6. Java"
   ]
  },
  {
   "cell_type": "markdown",
   "metadata": {},
   "source": [
    "### Libraries Used by Data Scientists\n",
    "\n",
    "Depending on the programming language you use for data collection, analysis, and evaluation, you will use different libraries. ***Libraries have internal code, and you don’t need to know how they work internally; you only need to understand how their functions work and call them to perform the operation you need.***  \n",
    "\n",
    "Some libraries used in a programming language were not necessarily created entirely in that language, but may use others for their development. For example, NumPy is used in Python, but its core is written in C to optimize performance in numerical operations.  \n",
    "\n",
    "Below, we will list some of the most commonly used programming languages by data scientists and, in parentheses, the language in which they are used."
   ]
  },
  {
   "cell_type": "markdown",
   "metadata": {},
   "source": [
    "1. Pandas (Python)  \n",
    "2. Matplotlib (Python)  \n",
    "3. BeautifulSoup (Python)  \n",
    "4. ggplot2 (R)  \n",
    "5. caret (R)  \n",
    "6. DataFrames.jl (Julia)  \n",
    "7. Shark (C++)"
   ]
  },
  {
   "cell_type": "markdown",
   "metadata": {},
   "source": [
    "### Data Science Tools\n",
    "They are used to manage different programming languages in an organized and understandable way. Some tools allow you to run multiple programming languages, while others support only a single language.  \n",
    "Some of the most commonly used tools by data scientists are:"
   ]
  },
  {
   "cell_type": "markdown",
   "metadata": {},
   "source": [
    "| Data Science Tools |\n",
    "|-------------------|\n",
    "| Jupyter Notebook  |\n",
    "| RStudio           |\n",
    "| Apache Zeppelin   |\n",
    "| Spyder            |"
   ]
  },
  {
   "cell_type": "markdown",
   "metadata": {},
   "source": [
    "### Working with Python\n",
    "\n",
    "We'll begin by showing you how to perform some arithmetic operations in Python and some useful mathematical tricks."
   ]
  },
  {
   "cell_type": "markdown",
   "metadata": {},
   "source": [
    "***Math Hack***"
   ]
  },
  {
   "cell_type": "code",
   "execution_count": 1,
   "metadata": {},
   "outputs": [
    {
     "data": {
      "text/plain": [
       "100"
      ]
     },
     "execution_count": 1,
     "metadata": {},
     "output_type": "execute_result"
    }
   ],
   "source": [
    "# Did you know that multiplying any integer by 25 manually takes some time?\n",
    "25 * 4"
   ]
  },
  {
   "cell_type": "code",
   "execution_count": 2,
   "metadata": {},
   "outputs": [
    {
     "data": {
      "text/plain": [
       "100.0"
      ]
     },
     "execution_count": 2,
     "metadata": {},
     "output_type": "execute_result"
    }
   ],
   "source": [
    "# But if you divide the number by 4 and then add two zeros (multiply by 100), it's easier\n",
    "4 / 4 * 100"
   ]
  },
  {
   "cell_type": "code",
   "execution_count": 3,
   "metadata": {},
   "outputs": [
    {
     "data": {
      "text/plain": [
       "600.0"
      ]
     },
     "execution_count": 3,
     "metadata": {},
     "output_type": "execute_result"
    }
   ],
   "source": [
    "# Example: 24 * 25\n",
    "24 / 4 * 100"
   ]
  },
  {
   "cell_type": "code",
   "execution_count": 4,
   "metadata": {},
   "outputs": [],
   "source": [
    "# As you can see, 24 / 4 = 6, and now you add two zeros to get 600 (You're welcome)"
   ]
  },
  {
   "cell_type": "markdown",
   "metadata": {},
   "source": [
    "***Convert Minutes to Hours***\n",
    "\n",
    "We will convert 220 minutes to hours by dividing the minutes by 60 to get the hours."
   ]
  },
  {
   "cell_type": "code",
   "execution_count": 5,
   "metadata": {},
   "outputs": [
    {
     "data": {
      "text/plain": [
       "3.3333333333333335"
      ]
     },
     "execution_count": 5,
     "metadata": {},
     "output_type": "execute_result"
    }
   ],
   "source": [
    "200/60"
   ]
  },
  {
   "cell_type": "code",
   "execution_count": 1,
   "metadata": {},
   "outputs": [],
   "source": [
    "# We obtained a decimal, where the integer part represents the number of hours; in this case, it is 3 hours"
   ]
  },
  {
   "cell_type": "markdown",
   "metadata": {},
   "source": [
    "## Author\n",
    "Darol Fernando Pereda Velásquez"
   ]
  }
 ],
 "metadata": {
  "kernelspec": {
   "display_name": "Python 3 (ipykernel)",
   "language": "python",
   "name": "python3"
  },
  "language_info": {
   "codemirror_mode": {
    "name": "ipython",
    "version": 3
   },
   "file_extension": ".py",
   "mimetype": "text/x-python",
   "name": "python",
   "nbconvert_exporter": "python",
   "pygments_lexer": "ipython3",
   "version": "3.12.8"
  }
 },
 "nbformat": 4,
 "nbformat_minor": 4
}
